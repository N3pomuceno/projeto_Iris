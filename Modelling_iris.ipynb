{
 "cells": [
  {
   "cell_type": "markdown",
   "id": "071c2c70-33c2-4846-aab4-90eb51152322",
   "metadata": {},
   "source": [
    "# Modelagem e Avaliação\n",
    "\n",
    "Nesse caderno vamos tratar de cada modelo e fazer a avaliação para comparar e checar qual é o modelo mais eficiente para prever a espécie de Iris."
   ]
  },
  {
   "cell_type": "markdown",
   "id": "17d008ed-8539-4a9c-98f0-dca2fb96e22b",
   "metadata": {},
   "source": [
    "**Importação de Bibliotecas**"
   ]
  },
  {
   "cell_type": "code",
   "execution_count": 1,
   "id": "1d168e95-4a80-442f-acaf-954344697003",
   "metadata": {},
   "outputs": [],
   "source": [
    "from sklearn.datasets import load_iris\n",
    "import pandas as pd"
   ]
  },
  {
   "cell_type": "code",
   "execution_count": 2,
   "id": "010e4280-ad1b-419a-a9c9-256bfc06eaf0",
   "metadata": {},
   "outputs": [],
   "source": [
    "data = load_iris()"
   ]
  },
  {
   "cell_type": "code",
   "execution_count": 3,
   "id": "1bcf1a06-d12b-499b-8f4d-f3af4a1e2aab",
   "metadata": {},
   "outputs": [],
   "source": [
    "#Atributos\n",
    "X = pd.DataFrame(data.data, columns=data.feature_names)\n",
    "#Variável dependente\n",
    "y = pd.DataFrame(data.target, columns=['Species'])"
   ]
  },
  {
   "cell_type": "code",
   "execution_count": 7,
   "id": "e6d42f16-0939-4529-b9b1-21b655f8f953",
   "metadata": {},
   "outputs": [
    {
     "data": {
      "text/html": [
       "<div>\n",
       "<style scoped>\n",
       "    .dataframe tbody tr th:only-of-type {\n",
       "        vertical-align: middle;\n",
       "    }\n",
       "\n",
       "    .dataframe tbody tr th {\n",
       "        vertical-align: top;\n",
       "    }\n",
       "\n",
       "    .dataframe thead th {\n",
       "        text-align: right;\n",
       "    }\n",
       "</style>\n",
       "<table border=\"1\" class=\"dataframe\">\n",
       "  <thead>\n",
       "    <tr style=\"text-align: right;\">\n",
       "      <th></th>\n",
       "      <th>sepal length (cm)</th>\n",
       "      <th>sepal width (cm)</th>\n",
       "      <th>petal length (cm)</th>\n",
       "      <th>petal width (cm)</th>\n",
       "    </tr>\n",
       "  </thead>\n",
       "  <tbody>\n",
       "    <tr>\n",
       "      <th>0</th>\n",
       "      <td>5.1</td>\n",
       "      <td>3.5</td>\n",
       "      <td>1.4</td>\n",
       "      <td>0.2</td>\n",
       "    </tr>\n",
       "    <tr>\n",
       "      <th>1</th>\n",
       "      <td>4.9</td>\n",
       "      <td>3.0</td>\n",
       "      <td>1.4</td>\n",
       "      <td>0.2</td>\n",
       "    </tr>\n",
       "    <tr>\n",
       "      <th>2</th>\n",
       "      <td>4.7</td>\n",
       "      <td>3.2</td>\n",
       "      <td>1.3</td>\n",
       "      <td>0.2</td>\n",
       "    </tr>\n",
       "    <tr>\n",
       "      <th>3</th>\n",
       "      <td>4.6</td>\n",
       "      <td>3.1</td>\n",
       "      <td>1.5</td>\n",
       "      <td>0.2</td>\n",
       "    </tr>\n",
       "    <tr>\n",
       "      <th>4</th>\n",
       "      <td>5.0</td>\n",
       "      <td>3.6</td>\n",
       "      <td>1.4</td>\n",
       "      <td>0.2</td>\n",
       "    </tr>\n",
       "  </tbody>\n",
       "</table>\n",
       "</div>"
      ],
      "text/plain": [
       "   sepal length (cm)  sepal width (cm)  petal length (cm)  petal width (cm)\n",
       "0                5.1               3.5                1.4               0.2\n",
       "1                4.9               3.0                1.4               0.2\n",
       "2                4.7               3.2                1.3               0.2\n",
       "3                4.6               3.1                1.5               0.2\n",
       "4                5.0               3.6                1.4               0.2"
      ]
     },
     "metadata": {},
     "output_type": "display_data"
    },
    {
     "data": {
      "text/html": [
       "<div>\n",
       "<style scoped>\n",
       "    .dataframe tbody tr th:only-of-type {\n",
       "        vertical-align: middle;\n",
       "    }\n",
       "\n",
       "    .dataframe tbody tr th {\n",
       "        vertical-align: top;\n",
       "    }\n",
       "\n",
       "    .dataframe thead th {\n",
       "        text-align: right;\n",
       "    }\n",
       "</style>\n",
       "<table border=\"1\" class=\"dataframe\">\n",
       "  <thead>\n",
       "    <tr style=\"text-align: right;\">\n",
       "      <th></th>\n",
       "      <th>Species</th>\n",
       "    </tr>\n",
       "  </thead>\n",
       "  <tbody>\n",
       "    <tr>\n",
       "      <th>0</th>\n",
       "      <td>0</td>\n",
       "    </tr>\n",
       "    <tr>\n",
       "      <th>1</th>\n",
       "      <td>0</td>\n",
       "    </tr>\n",
       "    <tr>\n",
       "      <th>2</th>\n",
       "      <td>0</td>\n",
       "    </tr>\n",
       "    <tr>\n",
       "      <th>3</th>\n",
       "      <td>0</td>\n",
       "    </tr>\n",
       "    <tr>\n",
       "      <th>4</th>\n",
       "      <td>0</td>\n",
       "    </tr>\n",
       "  </tbody>\n",
       "</table>\n",
       "</div>"
      ],
      "text/plain": [
       "   Species\n",
       "0        0\n",
       "1        0\n",
       "2        0\n",
       "3        0\n",
       "4        0"
      ]
     },
     "metadata": {},
     "output_type": "display_data"
    }
   ],
   "source": [
    "display(X.head())\n",
    "display(y.head())"
   ]
  },
  {
   "cell_type": "markdown",
   "id": "3bbf2d87-a90d-4575-8693-e6a53e386418",
   "metadata": {},
   "source": [
    "Como eu tenho como plano, lidar com tanto o caso com e sem os atributos com uma correlação muito alta, vou fazer funções que apliquem sobre o treino e o teste! Como os dados já estão balanceados, não preciso me preocupar com isso, então vou fazer todos os casos que possamos precisar. Como os dados estão na mesma escala, não é necessário fazer a normalização também."
   ]
  },
  {
   "cell_type": "markdown",
   "id": "ee6ee805-373f-4f3b-8ada-be2a8032e766",
   "metadata": {},
   "source": [
    "**Importação dos módulos para fazer a modelagem**"
   ]
  },
  {
   "cell_type": "code",
   "execution_count": 10,
   "id": "a497c643-ae45-4ace-8d99-5375877cfd31",
   "metadata": {},
   "outputs": [],
   "source": [
    "#Pre-processamento\n",
    "from sklearn.model_selection import train_test_split\n",
    "#Modelos\n",
    "from sklearn.tree import DecisionTreeClassifier\n",
    "from sklearn.ensemble import RandomForestClassifier\n",
    "from sklearn.linear_model import LogisticRegression\n",
    "from sklearn.neighbors import KNeighborsClassifier\n",
    "from sklearn.svm import SVC\n",
    "#Métricas de Avaliação\n",
    "from sklearn.metrics import accuracy_score, classification_report"
   ]
  },
  {
   "cell_type": "code",
   "execution_count": 43,
   "id": "5b988f39-fe80-4822-b816-06077f07f499",
   "metadata": {},
   "outputs": [],
   "source": [
    "#Função de DecisionTreeClassifier\n",
    "def model_decision_tree(x_train,x_test,y_train,y_test):\n",
    "    model = DecisionTreeClassifier(random_state=123)\n",
    "    model.fit(x_train, y_train)\n",
    "    y_predict = model.predict(x_test)\n",
    "    print(classification_report(y_test, y_predict))\n",
    "    acc = accuracy_score(y_test,y_predict)\n",
    "    return acc"
   ]
  },
  {
   "cell_type": "code",
   "execution_count": 85,
   "id": "71758ef8-ff2c-4f81-b08f-7ee3f7c068a7",
   "metadata": {},
   "outputs": [],
   "source": [
    "#Função de Random Forest Classifier\n",
    "def model_RandomForestClassifier(x_train,x_test,y_train,y_test):\n",
    "    model=RandomForestClassifier(random_state=123)\n",
    "    model.fit(x_train, y_train.values.ravel())\n",
    "    y_predict = model.predict(x_test)\n",
    "    print(classification_report(y_test.values.ravel(), y_predict))\n",
    "    acc = accuracy_score(y_test,y_predict)\n",
    "    return acc"
   ]
  },
  {
   "cell_type": "code",
   "execution_count": 101,
   "id": "d5338f41-6940-4c14-a186-5fd647f362f9",
   "metadata": {},
   "outputs": [],
   "source": [
    "#Função de Logistic Regression\n",
    "def model_LogisticRegression(x_train,x_test,y_train,y_test):\n",
    "    model=LogisticRegression(random_state=123,max_iter=1000)\n",
    "    model.fit(x_train, y_train.values.ravel())\n",
    "    y_predict = model.predict(x_test)\n",
    "    print(classification_report(y_test, y_predict))\n",
    "    acc = accuracy_score(y_test,y_predict)\n",
    "    return acc"
   ]
  },
  {
   "cell_type": "code",
   "execution_count": 197,
   "id": "3cea7369-85a5-4613-92fe-c2b007ca06c6",
   "metadata": {},
   "outputs": [],
   "source": [
    "#Função de KneighborsClassifier\n",
    "def model_Kneighbors_classifier(x_train,x_test,y_train,y_test):\n",
    "    #Precisamos checar qual é a melhor quantidade de vizinhos, usando acurária como parâmetro de comparação\n",
    "    melhor_acuracia = 0\n",
    "    for i in range(10):\n",
    "        model = KNeighborsClassifier(n_neighbors=i+1)\n",
    "        model.fit(x_train, y_train.values.ravel())\n",
    "        y_predict = model.predict(x_test)\n",
    "        acuracia = accuracy_score(y_test,y_predict)\n",
    "        if acuracia > melhor_acuracia:\n",
    "            melhor_acuracia = acuracia\n",
    "            melhor_modelo = model\n",
    "            n=i+1\n",
    "    y_predict = melhor_modelo.predict(x_test)\n",
    "    print('Melhor número de vizinhos:{}'.format(n))\n",
    "    print(classification_report(y_test, y_predict))\n",
    "    acc = accuracy_score(y_test,y_predict)\n",
    "    return acc"
   ]
  },
  {
   "cell_type": "code",
   "execution_count": 211,
   "id": "78e25d4f-c761-4f25-91a9-76811a160478",
   "metadata": {},
   "outputs": [],
   "source": [
    "# Função de Support Vector Classifier\n",
    "def model_svc(x_train,x_test,y_train,y_test):\n",
    "    model = SVC(random_state=123)\n",
    "    model.fit(x_train, y_train.values.ravel())\n",
    "    y_predict = model.predict(x_test)\n",
    "    print(classification_report(y_test, y_predict))\n",
    "    acc = accuracy_score(y_test,y_predict)\n",
    "    return acc"
   ]
  },
  {
   "cell_type": "code",
   "execution_count": 212,
   "id": "e0a9501d-0829-41a2-ac97-848fc43c1b89",
   "metadata": {},
   "outputs": [],
   "source": [
    "X_train,X_test,y_train,y_test = train_test_split(X,y, random_state=123)"
   ]
  },
  {
   "cell_type": "code",
   "execution_count": 213,
   "id": "01310e30-c89a-4cdf-9c4c-6814be236b0c",
   "metadata": {},
   "outputs": [
    {
     "name": "stdout",
     "output_type": "stream",
     "text": [
      "              precision    recall  f1-score   support\n",
      "\n",
      "           0       1.00      1.00      1.00        16\n",
      "           1       0.80      1.00      0.89         8\n",
      "           2       1.00      0.86      0.92        14\n",
      "\n",
      "    accuracy                           0.95        38\n",
      "   macro avg       0.93      0.95      0.94        38\n",
      "weighted avg       0.96      0.95      0.95        38\n",
      "\n"
     ]
    }
   ],
   "source": [
    "decision_tree_acc = model_decision_tree(X_train,X_test,y_train,y_test)"
   ]
  },
  {
   "cell_type": "code",
   "execution_count": 214,
   "id": "2822690f-fed1-4a62-bc2b-c6d4a770d83d",
   "metadata": {},
   "outputs": [
    {
     "name": "stdout",
     "output_type": "stream",
     "text": [
      "              precision    recall  f1-score   support\n",
      "\n",
      "           0       1.00      1.00      1.00        16\n",
      "           1       0.73      1.00      0.84         8\n",
      "           2       1.00      0.79      0.88        14\n",
      "\n",
      "    accuracy                           0.92        38\n",
      "   macro avg       0.91      0.93      0.91        38\n",
      "weighted avg       0.94      0.92      0.92        38\n",
      "\n"
     ]
    }
   ],
   "source": [
    "random_forest_acc = model_RandomForestClassifier(X_train,X_test,y_train,y_test)"
   ]
  },
  {
   "cell_type": "code",
   "execution_count": 215,
   "id": "3dba3809-e0a2-498c-a18b-bfc1fc25d2d6",
   "metadata": {},
   "outputs": [
    {
     "name": "stdout",
     "output_type": "stream",
     "text": [
      "              precision    recall  f1-score   support\n",
      "\n",
      "           0       1.00      1.00      1.00        16\n",
      "           1       0.89      1.00      0.94         8\n",
      "           2       1.00      0.93      0.96        14\n",
      "\n",
      "    accuracy                           0.97        38\n",
      "   macro avg       0.96      0.98      0.97        38\n",
      "weighted avg       0.98      0.97      0.97        38\n",
      "\n"
     ]
    }
   ],
   "source": [
    "logistic_regression_acc = model_LogisticRegression(X_train,X_test,y_train,y_test)"
   ]
  },
  {
   "cell_type": "code",
   "execution_count": 216,
   "id": "ea9a5f6f-6c4e-43d7-838c-4b1c052614c7",
   "metadata": {},
   "outputs": [
    {
     "name": "stdout",
     "output_type": "stream",
     "text": [
      "Melhor número de vizinhos:5\n",
      "              precision    recall  f1-score   support\n",
      "\n",
      "           0       1.00      1.00      1.00        16\n",
      "           1       1.00      0.88      0.93         8\n",
      "           2       0.93      1.00      0.97        14\n",
      "\n",
      "    accuracy                           0.97        38\n",
      "   macro avg       0.98      0.96      0.97        38\n",
      "weighted avg       0.98      0.97      0.97        38\n",
      "\n"
     ]
    }
   ],
   "source": [
    "kneighbors_acc = model_Kneighbors_classifier(X_train,X_test,y_train,y_test)"
   ]
  },
  {
   "cell_type": "code",
   "execution_count": 219,
   "id": "83f72600-6614-410d-b11e-7538e5fa8418",
   "metadata": {},
   "outputs": [
    {
     "name": "stdout",
     "output_type": "stream",
     "text": [
      "              precision    recall  f1-score   support\n",
      "\n",
      "           0       1.00      1.00      1.00        16\n",
      "           1       0.89      1.00      0.94         8\n",
      "           2       1.00      0.93      0.96        14\n",
      "\n",
      "    accuracy                           0.97        38\n",
      "   macro avg       0.96      0.98      0.97        38\n",
      "weighted avg       0.98      0.97      0.97        38\n",
      "\n"
     ]
    }
   ],
   "source": [
    "svc_acc = model_svc(X_train,X_test,y_train,y_test)"
   ]
  },
  {
   "cell_type": "code",
   "execution_count": 222,
   "id": "8ecbc217-b45f-4476-9f7b-3ab53f54605d",
   "metadata": {},
   "outputs": [
    {
     "name": "stdout",
     "output_type": "stream",
     "text": [
      "ACURÁCIAS\n",
      "Random Forest Classifier:0.9211\n",
      "Decision Tree Classifier:0.9474\n",
      "Support Vector Classifier:0.9737\n",
      "K-Nearest Neighbors:0.9737\n",
      "Logistic Regression:0.9737\n"
     ]
    }
   ],
   "source": [
    "print('ACURÁCIAS')\n",
    "print('Random Forest Classifier:{}'.format(round(random_forest_acc,4)))\n",
    "print('Decision Tree Classifier:{}'.format(round(decision_tree_acc,4)))\n",
    "print('Support Vector Classifier:{}'.format(round(svc_acc,4)))\n",
    "print('K-Nearest Neighbors:{}'.format(round(kneighbors_acc,4)))\n",
    "print('Logistic Regression:{}'.format(round(logistic_regression_acc,4)))"
   ]
  },
  {
   "cell_type": "markdown",
   "id": "fc42490f-e131-4a37-86dc-1a43e185a433",
   "metadata": {},
   "source": [
    "Então daqui podemos ver que os melhores modelos são SVC, Vizinhos próximos e regressão logística.\n",
    "\n",
    "Caso façamos os mesmos cálculos sem o atributo correlacionado, será que chegaremos no mesmo resultado?"
   ]
  },
  {
   "cell_type": "code",
   "execution_count": 240,
   "id": "54e5061b-5f27-4bfd-8cdf-b86f351c5142",
   "metadata": {},
   "outputs": [],
   "source": [
    "X_train,X_test,y_train,y_test = train_test_split(X[['sepal length (cm)','sepal width (cm)','petal length (cm)']],y, random_state=123)"
   ]
  },
  {
   "cell_type": "code",
   "execution_count": 241,
   "id": "d65f13d8-52a6-4781-8051-b415ab8b83a1",
   "metadata": {},
   "outputs": [
    {
     "name": "stdout",
     "output_type": "stream",
     "text": [
      "              precision    recall  f1-score   support\n",
      "\n",
      "           0       1.00      1.00      1.00        16\n",
      "           1       1.00      0.88      0.93         8\n",
      "           2       0.93      1.00      0.97        14\n",
      "\n",
      "    accuracy                           0.97        38\n",
      "   macro avg       0.98      0.96      0.97        38\n",
      "weighted avg       0.98      0.97      0.97        38\n",
      "\n"
     ]
    }
   ],
   "source": [
    "decision_tree_acc = model_decision_tree(X_train,X_test,y_train,y_test)"
   ]
  },
  {
   "cell_type": "code",
   "execution_count": 242,
   "id": "259f8627-127a-417f-9792-222db6cfc6a8",
   "metadata": {},
   "outputs": [
    {
     "name": "stdout",
     "output_type": "stream",
     "text": [
      "              precision    recall  f1-score   support\n",
      "\n",
      "           0       1.00      1.00      1.00        16\n",
      "           1       0.64      0.88      0.74         8\n",
      "           2       0.91      0.71      0.80        14\n",
      "\n",
      "    accuracy                           0.87        38\n",
      "   macro avg       0.85      0.86      0.85        38\n",
      "weighted avg       0.89      0.87      0.87        38\n",
      "\n"
     ]
    }
   ],
   "source": [
    "random_forest_acc = model_RandomForestClassifier(X_train,X_test,y_train,y_test)"
   ]
  },
  {
   "cell_type": "code",
   "execution_count": 243,
   "id": "da3d4f7a-d2fd-4351-a908-674dd433e9cd",
   "metadata": {},
   "outputs": [
    {
     "name": "stdout",
     "output_type": "stream",
     "text": [
      "Melhor número de vizinhos:1\n",
      "              precision    recall  f1-score   support\n",
      "\n",
      "           0       1.00      1.00      1.00        16\n",
      "           1       0.78      0.88      0.82         8\n",
      "           2       0.92      0.86      0.89        14\n",
      "\n",
      "    accuracy                           0.92        38\n",
      "   macro avg       0.90      0.91      0.90        38\n",
      "weighted avg       0.92      0.92      0.92        38\n",
      "\n"
     ]
    }
   ],
   "source": [
    "kneighbors_acc = model_Kneighbors_classifier(X_train,X_test,y_train,y_test)"
   ]
  },
  {
   "cell_type": "code",
   "execution_count": 244,
   "id": "fa277175-eee3-4913-b9f1-aaa919aa0cf8",
   "metadata": {},
   "outputs": [
    {
     "name": "stdout",
     "output_type": "stream",
     "text": [
      "              precision    recall  f1-score   support\n",
      "\n",
      "           0       1.00      1.00      1.00        16\n",
      "           1       0.89      1.00      0.94         8\n",
      "           2       1.00      0.93      0.96        14\n",
      "\n",
      "    accuracy                           0.97        38\n",
      "   macro avg       0.96      0.98      0.97        38\n",
      "weighted avg       0.98      0.97      0.97        38\n",
      "\n"
     ]
    }
   ],
   "source": [
    "logistic_regression_acc = model_LogisticRegression(X_train,X_test,y_train,y_test)"
   ]
  },
  {
   "cell_type": "code",
   "execution_count": 245,
   "id": "c2ed78c8-117c-449f-b359-2d434c6cf65b",
   "metadata": {},
   "outputs": [
    {
     "name": "stdout",
     "output_type": "stream",
     "text": [
      "              precision    recall  f1-score   support\n",
      "\n",
      "           0       1.00      1.00      1.00        16\n",
      "           1       0.80      1.00      0.89         8\n",
      "           2       1.00      0.86      0.92        14\n",
      "\n",
      "    accuracy                           0.95        38\n",
      "   macro avg       0.93      0.95      0.94        38\n",
      "weighted avg       0.96      0.95      0.95        38\n",
      "\n"
     ]
    }
   ],
   "source": [
    "svc_acc = model_svc(X_train,X_test,y_train,y_test)"
   ]
  },
  {
   "cell_type": "code",
   "execution_count": 246,
   "id": "f93e80ad-cb30-4bae-9a55-762939688b12",
   "metadata": {},
   "outputs": [
    {
     "name": "stdout",
     "output_type": "stream",
     "text": [
      "ACURÁCIAS\n",
      "Random Forest Classifier:0.8684\n",
      "Decision Tree Classifier:0.9737\n",
      "Support Vector Classifier:0.9474\n",
      "K-Nearest Neighbors:0.9211\n",
      "Logistic Regression:0.9737\n"
     ]
    }
   ],
   "source": [
    "print('ACURÁCIAS')\n",
    "print('Random Forest Classifier:{}'.format(round(random_forest_acc,4)))\n",
    "print('Decision Tree Classifier:{}'.format(round(decision_tree_acc,4)))\n",
    "print('Support Vector Classifier:{}'.format(round(svc_acc,4)))\n",
    "print('K-Nearest Neighbors:{}'.format(round(kneighbors_acc,4)))\n",
    "print('Logistic Regression:{}'.format(round(logistic_regression_acc,4)))"
   ]
  },
  {
   "cell_type": "markdown",
   "id": "34bc72f3-675e-4f80-8ad8-3b3cbe914ed7",
   "metadata": {},
   "source": [
    "Com isso podemos ver que o resultado muda!\n",
    "O que muda? Tanto SVC e Vizinhos próximos apresentam uma queda na acurácia, e Regressão logística se mantém. E Árvore de Decisão cresce o suficiente para se manter com a acurária mais alta junto com Regressão logística.\n",
    "\n",
    "Por causa disso, sendo o mais alto nos dois casos.\n",
    "\n",
    "O melhor modelo para definir a espécie de Iris é a Regressão Logística."
   ]
  },
  {
   "cell_type": "code",
   "execution_count": null,
   "id": "5a2a77bc",
   "metadata": {},
   "outputs": [],
   "source": [
    "import pickle\n",
    "\n"
   ]
  }
 ],
 "metadata": {
  "kernelspec": {
   "display_name": "Python 3 (ipykernel)",
   "language": "python",
   "name": "python3"
  },
  "language_info": {
   "codemirror_mode": {
    "name": "ipython",
    "version": 3
   },
   "file_extension": ".py",
   "mimetype": "text/x-python",
   "name": "python",
   "nbconvert_exporter": "python",
   "pygments_lexer": "ipython3",
   "version": "3.8.10"
  }
 },
 "nbformat": 4,
 "nbformat_minor": 5
}
